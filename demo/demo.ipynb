{
 "cells": [
  {
   "cell_type": "markdown",
   "id": "3dea330a",
   "metadata": {},
   "source": [
    "### import and path"
   ]
  },
  {
   "cell_type": "code",
   "execution_count": 9,
   "id": "bde3c2e9",
   "metadata": {},
   "outputs": [
    {
     "name": "stdout",
     "output_type": "stream",
     "text": [
      "Shapely                  1.8.2\n"
     ]
    }
   ],
   "source": [
    "!pip list |grep Shapely\n"
   ]
  },
  {
   "cell_type": "code",
   "execution_count": 10,
   "id": "f2053282",
   "metadata": {},
   "outputs": [],
   "source": [
    "import socket\n",
    "import sys\n",
    "import pickle\n",
    "import os\n",
    "import time\n",
    "from pprint import pprint\n",
    "\n",
    "sys.path.append('/home/lxh/dev/DRL-urban-planning')\n",
    "home_dir= '/home/lxh/dev/drl_urban_planning/'\n",
    "root_dir = '/home/lxh/dev/drl_urban_planning/'"
   ]
  },
  {
   "cell_type": "markdown",
   "id": "5e5587e4",
   "metadata": {},
   "source": [
    "### demo"
   ]
  },
  {
   "cell_type": "code",
   "execution_count": 11,
   "id": "cb20de7f",
   "metadata": {
    "pycharm": {
     "name": "#%%\n"
    }
   },
   "outputs": [],
   "source": [
    "from urban_planning.envs import CityEnv\n",
    "from urban_planning.envs import city_config\n",
    "from urban_planning.utils.config import Config"
   ]
  },
  {
   "cell_type": "code",
   "execution_count": 12,
   "id": "2cdde0ab",
   "metadata": {},
   "outputs": [],
   "source": [
    "id = 'grid'\n",
    "seed = 111\n",
    "temp = False\n",
    "cfg = Config(id, seed, temp, root_dir)\n",
    "env = CityEnv(cfg)"
   ]
  },
  {
   "cell_type": "code",
   "execution_count": 13,
   "id": "6bf07072",
   "metadata": {
    "pycharm": {
     "name": "#%%\n"
    }
   },
   "outputs": [
    {
     "name": "stdout",
     "output_type": "stream",
     "text": [
      "{'road_network': 0.710875496031746, 'life_circle': 0.6680017342345674, 'greenness': 0.47504135222083843, 'concept': -1.0, 'road_network_info': {'connectivity_reward': 1.0, 'density_reward': 0.6223958333333334, 'dead_end_penalty': 1.0, 'short_road_penalty': 0.5, 'long_road_penalty': 0.14285714285714285, 'road_distance_penalty': 1.0}, 'land_use_reward': 3.147048289159108, 'life_circle_info': {'life_circle_15min': 0.9375, 'life_circle_10min': 0.65, 'life_circle_5min': 0.15000000000000002, 'life_circle_10min_area': 0.6604046242774566, 'decentralization_reward': 0.36003468469134753, 'utility': 0.1957465277777778, 'shopping': 0.5, 'working': 0.5, 'education': 0.8125, 'medical care': 0.8125, 'entertainment': 0.625}, 'concept_info': {}, 'gdf':      type  existence                                           geometry  rect  \\\n",
      "id                                                                              \n",
      "0       2      False  LINESTRING (0.000 0.000, 0.000 30.000, 0.000 5...   NaN   \n",
      "1       2       True           LINESTRING (0.000 50.000, 0.000 120.000)   NaN   \n",
      "2       2       True          LINESTRING (0.000 120.000, 0.000 180.000)   NaN   \n",
      "3       2      False  LINESTRING (0.000 180.000, 0.000 200.000, 0.00...   NaN   \n",
      "4       2       True         LINESTRING (0.000 240.000, 60.000 240.000)   NaN   \n",
      "..    ...        ...                                                ...   ...   \n",
      "426    13       True                            POINT (130.000 140.000)   NaN   \n",
      "427     2       True      LINESTRING (120.000 140.000, 130.000 140.000)   NaN   \n",
      "428     2       True      LINESTRING (130.000 140.000, 130.000 120.000)   NaN   \n",
      "429     5       True  POLYGON ((120.000 140.000, 130.000 140.000, 13...   1.0   \n",
      "430     8       True  POLYGON ((120.000 150.000, 130.000 150.000, 16...   0.5   \n",
      "\n",
      "          eqi        sc  \n",
      "id                       \n",
      "0         NaN       NaN  \n",
      "1         NaN       NaN  \n",
      "2         NaN       NaN  \n",
      "3         NaN       NaN  \n",
      "4         NaN       NaN  \n",
      "..        ...       ...  \n",
      "426       NaN       NaN  \n",
      "427       NaN       NaN  \n",
      "428       NaN       NaN  \n",
      "429  1.000000  0.888889  \n",
      "430  0.707107  0.489796  \n",
      "\n",
      "[431 rows x 6 columns], 'land_use_gdf':      type  existence                                           geometry  rect  \\\n",
      "id                                                                              \n",
      "0       2      False  LINESTRING (0.000 0.000, 0.000 30.000, 0.000 5...   NaN   \n",
      "1       2       True           LINESTRING (0.000 50.000, 0.000 120.000)   NaN   \n",
      "2       2       True          LINESTRING (0.000 120.000, 0.000 180.000)   NaN   \n",
      "3       2      False  LINESTRING (0.000 180.000, 0.000 200.000, 0.00...   NaN   \n",
      "4       2       True         LINESTRING (0.000 240.000, 60.000 240.000)   NaN   \n",
      "..    ...        ...                                                ...   ...   \n",
      "426    13       True                            POINT (130.000 140.000)   NaN   \n",
      "427     3       True      LINESTRING (120.000 140.000, 130.000 140.000)   NaN   \n",
      "428     3       True      LINESTRING (130.000 140.000, 130.000 120.000)   NaN   \n",
      "429     5       True  POLYGON ((120.000 140.000, 130.000 140.000, 13...   1.0   \n",
      "430     8       True  POLYGON ((120.000 150.000, 130.000 150.000, 16...   0.5   \n",
      "\n",
      "          eqi        sc  \n",
      "id                       \n",
      "0         NaN       NaN  \n",
      "1         NaN       NaN  \n",
      "2         NaN       NaN  \n",
      "3         NaN       NaN  \n",
      "4         NaN       NaN  \n",
      "..        ...       ...  \n",
      "426       NaN       NaN  \n",
      "427       NaN       NaN  \n",
      "428       NaN       NaN  \n",
      "429  1.000000  0.888889  \n",
      "430  0.707107  0.489796  \n",
      "\n",
      "[431 rows x 6 columns]}\n"
     ]
    }
   ],
   "source": [
    "model_path = os.path.join(root_dir, id, str(seed), 'models', 'best.p')\n",
    "d = pickle.load(open(model_path, 'rb'))\n",
    "gdf = d['best_plans'][0]['gdf']\n",
    "print(d['best_plans'][0])"
   ]
  },
  {
   "cell_type": "markdown",
   "id": "d219fe37",
   "metadata": {},
   "source": [
    "### load plan and score"
   ]
  },
  {
   "cell_type": "code",
   "execution_count": 14,
   "id": "8c5e4720",
   "metadata": {},
   "outputs": [
    {
     "name": "stdout",
     "output_type": "stream",
     "text": [
      "reward: 3.857923785190854\n",
      "{   'road_network': 0.710875496031746,\n",
      "    'life_circle': 0.6680017342345674,\n",
      "    'greenness': 0.47504135222083843,\n",
      "    'road_network_info': {   'connectivity_reward': 1.0,\n",
      "                             'density_reward': 0.6223958333333334,\n",
      "                             'dead_end_penalty': 1.0,\n",
      "                             'short_road_penalty': 0.5,\n",
      "                             'long_road_penalty': 0.14285714285714285,\n",
      "                             'road_distance_penalty': 1.0},\n",
      "    'life_circle_info': {   'life_circle_15min': 0.9375,\n",
      "                            'life_circle_10min': 0.65,\n",
      "                            'life_circle_5min': 0.15000000000000002,\n",
      "                            'life_circle_10min_area': 0.6604046242774566,\n",
      "                            'decentralization_reward': 0.36003468469134753,\n",
      "                            'utility': 0.1957465277777778,\n",
      "                            'shopping': 0.5,\n",
      "                            'working': 0.5,\n",
      "                            'education': 0.8125,\n",
      "                            'medical care': 0.8125,\n",
      "                            'entertainment': 0.625}}\n"
     ]
    },
    {
     "name": "stderr",
     "output_type": "stream",
     "text": [
      "/home/lxh/anaconda3/envs/urban/lib/python3.8/site-packages/momepy/preprocessing.py:273: FutureWarning: The frame.append method is deprecated and will be removed from pandas in a future version. Use pandas.concat instead.\n",
      "  return df.append(\n"
     ]
    },
    {
     "data": {
      "text/plain": [
       "(3.857923785190854,\n",
       " {'road_network': 0.710875496031746,\n",
       "  'life_circle': 0.6680017342345674,\n",
       "  'greenness': 0.47504135222083843,\n",
       "  'road_network_info': {'connectivity_reward': 1.0,\n",
       "   'density_reward': 0.6223958333333334,\n",
       "   'dead_end_penalty': 1.0,\n",
       "   'short_road_penalty': 0.5,\n",
       "   'long_road_penalty': 0.14285714285714285,\n",
       "   'road_distance_penalty': 1.0},\n",
       "  'life_circle_info': {'life_circle_15min': 0.9375,\n",
       "   'life_circle_10min': 0.65,\n",
       "   'life_circle_5min': 0.15000000000000002,\n",
       "   'life_circle_10min_area': 0.6604046242774566,\n",
       "   'decentralization_reward': 0.36003468469134753,\n",
       "   'utility': 0.1957465277777778,\n",
       "   'shopping': 0.5,\n",
       "   'working': 0.5,\n",
       "   'education': 0.8125,\n",
       "   'medical care': 0.8125,\n",
       "   'entertainment': 0.625}})"
      ]
     },
     "execution_count": 14,
     "metadata": {},
     "output_type": "execute_result"
    }
   ],
   "source": [
    "env.load_plan(gdf)\n",
    "env.score_plan()"
   ]
  },
  {
   "cell_type": "code",
   "execution_count": 15,
   "id": "9c5f1714",
   "metadata": {},
   "outputs": [
    {
     "data": {
      "image/png": "[encoded data removed]",
      "text/plain": [
       "<Figure size 640x480 with 1 Axes>"
      ]
     },
     "metadata": {},
     "output_type": "display_data"
    }
   ],
   "source": [
    "env.visualize()"
   ]
  },
  {
   "cell_type": "code",
   "execution_count": 16,
   "id": "ec1dd1f2",
   "metadata": {},
   "outputs": [
    {
     "data": {
      "image/png": "[encoded data removed]",
      "text/plain": [
       "<Figure size 640x480 with 1 Axes>"
      ]
     },
     "metadata": {},
     "output_type": "display_data"
    }
   ],
   "source": [
    "env.visualize_road_and_boundary()"
   ]
  },
  {
   "cell_type": "code",
   "execution_count": null,
   "id": "f978fd1d",
   "metadata": {},
   "outputs": [],
   "source": []
  }
 ],
 "metadata": {
  "kernelspec": {
   "display_name": "urban",
   "language": "python",
   "name": "python3"
  },
  "language_info": {
   "codemirror_mode": {
    "name": "ipython",
    "version": 3
   },
   "file_extension": ".py",
   "mimetype": "text/x-python",
   "name": "python",
   "nbconvert_exporter": "python",
   "pygments_lexer": "ipython3",
   "version": "3.8.20"
  }
 },
 "nbformat": 4,
 "nbformat_minor": 5
}
